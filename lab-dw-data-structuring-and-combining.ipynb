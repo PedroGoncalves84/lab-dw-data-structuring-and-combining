{
 "cells": [
  {
   "cell_type": "markdown",
   "id": "25d7736c-ba17-4aff-b6bb-66eba20fbf4e",
   "metadata": {
    "id": "25d7736c-ba17-4aff-b6bb-66eba20fbf4e"
   },
   "source": [
    "# Lab | Data Structuring and Combining Data"
   ]
  },
  {
   "cell_type": "markdown",
   "id": "a2cdfc70-44c8-478c-81e7-2bc43fdf4986",
   "metadata": {
    "id": "a2cdfc70-44c8-478c-81e7-2bc43fdf4986"
   },
   "source": [
    "## Challenge 1: Combining & Cleaning Data\n",
    "\n",
    "In this challenge, we will be working with the customer data from an insurance company, as we did in the two previous labs. The data can be found here:\n",
    "- https://raw.githubusercontent.com/data-bootcamp-v4/data/main/file1.csv\n",
    "\n",
    "But this time, we got new data, which can be found in the following 2 CSV files located at the links below.\n",
    "\n",
    "- https://raw.githubusercontent.com/data-bootcamp-v4/data/main/file2.csv\n",
    "- https://raw.githubusercontent.com/data-bootcamp-v4/data/main/file3.csv\n",
    "\n",
    "Note that you'll need to clean and format the new data.\n",
    "\n",
    "Observation:\n",
    "- One option is to first combine the three datasets and then apply the cleaning function to the new combined dataset\n",
    "- Another option would be to read the clean file you saved in the previous lab, and just clean the two new files and concatenate the three clean datasets"
   ]
  },
  {
   "cell_type": "code",
   "execution_count": 27,
   "id": "492d06e3-92c7-4105-ac72-536db98d3244",
   "metadata": {
    "id": "492d06e3-92c7-4105-ac72-536db98d3244"
   },
   "outputs": [],
   "source": [
    "# Your code goes here\n",
    "import pandas as pd\n"
   ]
  },
  {
   "cell_type": "code",
   "execution_count": 28,
   "id": "07065dba",
   "metadata": {},
   "outputs": [
    {
     "name": "stdout",
     "output_type": "stream",
     "text": [
      "Index(['Customer', 'ST', 'GENDER', 'Education', 'Customer Lifetime Value',\n",
      "       'Income', 'Monthly Premium Auto', 'Number of Open Complaints',\n",
      "       'Policy Type', 'Vehicle Class', 'Total Claim Amount'],\n",
      "      dtype='object')\n",
      "Index(['Customer', 'ST', 'GENDER', 'Education', 'Customer Lifetime Value',\n",
      "       'Income', 'Monthly Premium Auto', 'Number of Open Complaints',\n",
      "       'Total Claim Amount', 'Policy Type', 'Vehicle Class'],\n",
      "      dtype='object')\n",
      "Index(['Customer', 'State', 'Customer Lifetime Value', 'Education', 'Gender',\n",
      "       'Income', 'Monthly Premium Auto', 'Number of Open Complaints',\n",
      "       'Policy Type', 'Total Claim Amount', 'Vehicle Class'],\n",
      "      dtype='object')\n"
     ]
    }
   ],
   "source": [
    "file1 = pd.read_csv(\"https://raw.githubusercontent.com/data-bootcamp-v4/data/main/file1.csv\")\n",
    "file2 = pd.read_csv(\"https://raw.githubusercontent.com/data-bootcamp-v4/data/main/file2.csv\")\n",
    "file3 = pd.read_csv(\"https://raw.githubusercontent.com/data-bootcamp-v4/data/main/file3.csv\")\n",
    "\n",
    "print(file1.columns)\n",
    "print(file2.columns)\n",
    "print(file3.columns)"
   ]
  },
  {
   "cell_type": "code",
   "execution_count": 29,
   "id": "c37ea07c",
   "metadata": {},
   "outputs": [],
   "source": [
    "file1.columns = file1.columns.str.lower().str.strip()\n",
    "file2.columns = file2.columns.str.lower().str.strip()\n",
    "file3.columns = file3.columns.str.lower().str.strip()"
   ]
  },
  {
   "cell_type": "code",
   "execution_count": 30,
   "id": "365f10dd",
   "metadata": {},
   "outputs": [],
   "source": [
    "\n",
    "file2.rename(columns={\"customer\": \"customer_id\"}, inplace=True)\n",
    "file3.rename(columns={\"Customer\": \"customer_id\"}, inplace=True)"
   ]
  },
  {
   "cell_type": "code",
   "execution_count": 31,
   "id": "52196b05",
   "metadata": {},
   "outputs": [
    {
     "name": "stdout",
     "output_type": "stream",
     "text": [
      "Index(['customer_id', 'state', 'gender', 'education',\n",
      "       'customer lifetime value', 'income', 'monthly premium auto',\n",
      "       'number of open complaints', 'policy type', 'vehicle class',\n",
      "       'total claim amount'],\n",
      "      dtype='object')\n"
     ]
    }
   ],
   "source": [
    "print(data.columns)"
   ]
  },
  {
   "cell_type": "code",
   "execution_count": 32,
   "id": "e01cbac4",
   "metadata": {},
   "outputs": [],
   "source": [
    "file2.rename(columns={\n",
    "    'customer': 'customer_id',\n",
    "    'st': 'state'\n",
    "}, inplace=True)\n",
    "\n",
    "# Standardize column names in file3\n",
    "file3.rename(columns={\n",
    "    'customer': 'customer_id',\n",
    "    'st': 'state'\n",
    "}, inplace=True)"
   ]
  },
  {
   "cell_type": "code",
   "execution_count": 33,
   "id": "a87b8bc9",
   "metadata": {},
   "outputs": [
    {
     "name": "stdout",
     "output_type": "stream",
     "text": [
      "File1 columns: ['customer', 'st', 'gender', 'education', 'customer lifetime value', 'income', 'monthly premium auto', 'number of open complaints', 'policy type', 'vehicle class', 'total claim amount']\n",
      "File2 columns: ['customer_id', 'state', 'gender', 'education', 'customer lifetime value', 'income', 'monthly premium auto', 'number of open complaints', 'total claim amount', 'policy type', 'vehicle class']\n",
      "File3 columns: ['customer_id', 'state', 'customer lifetime value', 'education', 'gender', 'income', 'monthly premium auto', 'number of open complaints', 'policy type', 'total claim amount', 'vehicle class']\n"
     ]
    }
   ],
   "source": [
    "print(\"File1 columns:\", list(file1.columns))\n",
    "print(\"File2 columns:\", list(file2.columns))\n",
    "print(\"File3 columns:\", list(file3.columns))\n"
   ]
  },
  {
   "cell_type": "code",
   "execution_count": 34,
   "id": "edd670cf",
   "metadata": {},
   "outputs": [],
   "source": [
    "file1.rename(columns={\n",
    "    'customer': 'customer_id',\n",
    "    'st': 'state'\n",
    "}, inplace=True)\n"
   ]
  },
  {
   "cell_type": "code",
   "execution_count": 35,
   "id": "642fc0fb",
   "metadata": {},
   "outputs": [
    {
     "name": "stdout",
     "output_type": "stream",
     "text": [
      "File1 columns: ['customer_id', 'state', 'gender', 'education', 'customer lifetime value', 'income', 'monthly premium auto', 'number of open complaints', 'policy type', 'vehicle class', 'total claim amount']\n",
      "File2 columns: ['customer_id', 'state', 'gender', 'education', 'customer lifetime value', 'income', 'monthly premium auto', 'number of open complaints', 'total claim amount', 'policy type', 'vehicle class']\n",
      "File3 columns: ['customer_id', 'state', 'customer lifetime value', 'education', 'gender', 'income', 'monthly premium auto', 'number of open complaints', 'policy type', 'total claim amount', 'vehicle class']\n"
     ]
    }
   ],
   "source": [
    "print(\"File1 columns:\", list(file1.columns))\n",
    "print(\"File2 columns:\", list(file2.columns))\n",
    "print(\"File3 columns:\", list(file3.columns))"
   ]
  },
  {
   "cell_type": "code",
   "execution_count": 39,
   "id": "315d6148",
   "metadata": {},
   "outputs": [],
   "source": [
    "data = pd.concat([file1, file2, file3], axis=0, ignore_index=True)"
   ]
  },
  {
   "cell_type": "code",
   "execution_count": 40,
   "id": "458d28d5",
   "metadata": {},
   "outputs": [
    {
     "name": "stdout",
     "output_type": "stream",
     "text": [
      "<class 'pandas.core.frame.DataFrame'>\n",
      "RangeIndex: 12074 entries, 0 to 12073\n",
      "Data columns (total 11 columns):\n",
      " #   Column                     Non-Null Count  Dtype  \n",
      "---  ------                     --------------  -----  \n",
      " 0   customer_id                9137 non-null   object \n",
      " 1   state                      9137 non-null   object \n",
      " 2   gender                     9015 non-null   object \n",
      " 3   education                  9137 non-null   object \n",
      " 4   customer lifetime value    9130 non-null   object \n",
      " 5   income                     9137 non-null   float64\n",
      " 6   monthly premium auto       9137 non-null   float64\n",
      " 7   number of open complaints  9137 non-null   object \n",
      " 8   policy type                9137 non-null   object \n",
      " 9   vehicle class              9137 non-null   object \n",
      " 10  total claim amount         9137 non-null   float64\n",
      "dtypes: float64(3), object(8)\n",
      "memory usage: 1.0+ MB\n",
      "None\n",
      "customer_id                  2937\n",
      "state                        2937\n",
      "gender                       3059\n",
      "education                    2937\n",
      "customer lifetime value      2944\n",
      "income                       2937\n",
      "monthly premium auto         2937\n",
      "number of open complaints    2937\n",
      "policy type                  2937\n",
      "vehicle class                2937\n",
      "total claim amount           2937\n",
      "dtype: int64\n",
      "2939\n"
     ]
    }
   ],
   "source": [
    "print(data.info())\n",
    "print(data.isnull().sum())\n",
    "print(data.duplicated().sum())\n"
   ]
  },
  {
   "cell_type": "code",
   "execution_count": 42,
   "id": "d7a42c11",
   "metadata": {},
   "outputs": [
    {
     "name": "stdout",
     "output_type": "stream",
     "text": [
      "Data shape after dropping duplicates: (9135, 11)\n"
     ]
    }
   ],
   "source": [
    "data.drop_duplicates(inplace=True)\n",
    "print(f\"Data shape after dropping duplicates: {data.shape}\")"
   ]
  },
  {
   "cell_type": "code",
   "execution_count": 43,
   "id": "0a3c21e5",
   "metadata": {},
   "outputs": [
    {
     "name": "stderr",
     "output_type": "stream",
     "text": [
      "C:\\Users\\pedro\\AppData\\Local\\Temp\\ipykernel_34388\\2185318324.py:1: FutureWarning: A value is trying to be set on a copy of a DataFrame or Series through chained assignment using an inplace method.\n",
      "The behavior will change in pandas 3.0. This inplace method will never work because the intermediate object on which we are setting values always behaves as a copy.\n",
      "\n",
      "For example, when doing 'df[col].method(value, inplace=True)', try using 'df.method({col: value}, inplace=True)' or df[col] = df[col].method(value) instead, to perform the operation inplace on the original object.\n",
      "\n",
      "\n",
      "  data['gender'].fillna('Unknown', inplace=True)\n"
     ]
    }
   ],
   "source": [
    "data['gender'].fillna('Unknown', inplace=True)"
   ]
  },
  {
   "cell_type": "code",
   "execution_count": 44,
   "id": "1d6f9c38",
   "metadata": {},
   "outputs": [
    {
     "name": "stderr",
     "output_type": "stream",
     "text": [
      "C:\\Users\\pedro\\AppData\\Local\\Temp\\ipykernel_34388\\557595746.py:6: FutureWarning: A value is trying to be set on a copy of a DataFrame or Series through chained assignment using an inplace method.\n",
      "The behavior will change in pandas 3.0. This inplace method will never work because the intermediate object on which we are setting values always behaves as a copy.\n",
      "\n",
      "For example, when doing 'df[col].method(value, inplace=True)', try using 'df.method({col: value}, inplace=True)' or df[col] = df[col].method(value) instead, to perform the operation inplace on the original object.\n",
      "\n",
      "\n",
      "  data['customer lifetime value'].fillna(\n"
     ]
    }
   ],
   "source": [
    "data['customer lifetime value'] = pd.to_numeric(\n",
    "    data['customer lifetime value'], errors='coerce'\n",
    ")\n",
    "\n",
    "# Fill missing with median\n",
    "data['customer lifetime value'].fillna(\n",
    "    data['customer lifetime value'].median(), inplace=True\n",
    ")"
   ]
  },
  {
   "cell_type": "code",
   "execution_count": 45,
   "id": "8b677f1d",
   "metadata": {},
   "outputs": [
    {
     "name": "stdout",
     "output_type": "stream",
     "text": [
      "customer_id                  1\n",
      "state                        1\n",
      "gender                       0\n",
      "education                    1\n",
      "customer lifetime value      0\n",
      "income                       1\n",
      "monthly premium auto         1\n",
      "number of open complaints    1\n",
      "policy type                  1\n",
      "vehicle class                1\n",
      "total claim amount           1\n",
      "dtype: int64\n"
     ]
    }
   ],
   "source": [
    "print(data.isnull().sum())"
   ]
  },
  {
   "cell_type": "code",
   "execution_count": 46,
   "id": "58d899c8",
   "metadata": {},
   "outputs": [
    {
     "name": "stdout",
     "output_type": "stream",
     "text": [
      "customer_id                   object\n",
      "state                         object\n",
      "gender                        object\n",
      "education                     object\n",
      "customer lifetime value      float64\n",
      "income                       float64\n",
      "monthly premium auto         float64\n",
      "number of open complaints     object\n",
      "policy type                   object\n",
      "vehicle class                 object\n",
      "total claim amount           float64\n",
      "dtype: object\n"
     ]
    }
   ],
   "source": [
    "print(data.dtypes)"
   ]
  },
  {
   "cell_type": "code",
   "execution_count": 47,
   "id": "dfb720c0",
   "metadata": {},
   "outputs": [
    {
     "name": "stdout",
     "output_type": "stream",
     "text": [
      "['1/0/00' '1/2/00' '1/1/00' '1/3/00' '1/5/00' '1/4/00' nan 0 2 3 1 5 4]\n"
     ]
    }
   ],
   "source": [
    "print(data['number of open complaints'].unique())"
   ]
  },
  {
   "cell_type": "code",
   "execution_count": 48,
   "id": "3a6a690b",
   "metadata": {},
   "outputs": [],
   "source": [
    "data['number of open complaints'] = data['number of open complaints'].astype(str).str.extract(r'(\\d)').astype(float)"
   ]
  },
  {
   "cell_type": "code",
   "execution_count": 49,
   "id": "5feb9cf5",
   "metadata": {},
   "outputs": [
    {
     "name": "stdout",
     "output_type": "stream",
     "text": [
      "customer_id                   object\n",
      "state                         object\n",
      "gender                        object\n",
      "education                     object\n",
      "customer lifetime value      float64\n",
      "income                       float64\n",
      "monthly premium auto         float64\n",
      "number of open complaints    float64\n",
      "policy type                   object\n",
      "vehicle class                 object\n",
      "total claim amount           float64\n",
      "dtype: object\n"
     ]
    }
   ],
   "source": [
    "print(data.dtypes)"
   ]
  },
  {
   "cell_type": "code",
   "execution_count": 50,
   "id": "46d56b45",
   "metadata": {},
   "outputs": [],
   "source": [
    "data['number of open complaints'] = data['number of open complaints'].astype(str)\n",
    "\n",
    "# Extract the first number (e.g., '1' from '1/2/00')\n",
    "data['number of open complaints'] = data['number of open complaints'].str.extract(r'^(\\d)').astype(float)\n",
    "\n",
    "# Fill NaNs with 0, then convert to int\n",
    "data['number of open complaints'] = data['number of open complaints'].fillna(0).astype(int)"
   ]
  },
  {
   "cell_type": "code",
   "execution_count": 51,
   "id": "8bc5459e",
   "metadata": {},
   "outputs": [
    {
     "name": "stdout",
     "output_type": "stream",
     "text": [
      "[1 0 2 3 5 4]\n",
      "customer_id                   object\n",
      "state                         object\n",
      "gender                        object\n",
      "education                     object\n",
      "customer lifetime value      float64\n",
      "income                       float64\n",
      "monthly premium auto         float64\n",
      "number of open complaints      int32\n",
      "policy type                   object\n",
      "vehicle class                 object\n",
      "total claim amount           float64\n",
      "dtype: object\n"
     ]
    }
   ],
   "source": [
    "print(data['number of open complaints'].unique())\n",
    "print(data.dtypes)"
   ]
  },
  {
   "cell_type": "markdown",
   "id": "31b8a9e7-7db9-4604-991b-ef6771603e57",
   "metadata": {
    "id": "31b8a9e7-7db9-4604-991b-ef6771603e57"
   },
   "source": [
    "# Challenge 2: Structuring Data"
   ]
  },
  {
   "cell_type": "markdown",
   "id": "a877fd6d-7a0c-46d2-9657-f25036e4ca4b",
   "metadata": {
    "id": "a877fd6d-7a0c-46d2-9657-f25036e4ca4b"
   },
   "source": [
    "In this challenge, we will continue to work with customer data from an insurance company, but we will use a dataset with more columns, called marketing_customer_analysis.csv, which can be found at the following link:\n",
    "\n",
    "https://raw.githubusercontent.com/data-bootcamp-v4/data/main/marketing_customer_analysis_clean.csv\n",
    "\n",
    "This dataset contains information such as customer demographics, policy details, vehicle information, and the customer's response to the last marketing campaign. Our goal is to explore and analyze this data by performing data cleaning, formatting, and structuring."
   ]
  },
  {
   "cell_type": "code",
   "execution_count": 52,
   "id": "aa10d9b0-1c27-4d3f-a8e4-db6ab73bfd26",
   "metadata": {
    "id": "aa10d9b0-1c27-4d3f-a8e4-db6ab73bfd26"
   },
   "outputs": [],
   "source": [
    "# Your code goes here\n",
    "\n",
    "url = \"https://raw.githubusercontent.com/data-bootcamp-v4/data/main/marketing_customer_analysis_clean.csv\"\n",
    "df = pd.read_csv(url)"
   ]
  },
  {
   "cell_type": "code",
   "execution_count": 53,
   "id": "41f50fe2",
   "metadata": {},
   "outputs": [
    {
     "name": "stdout",
     "output_type": "stream",
     "text": [
      "(10910, 27)\n",
      "Index(['unnamed:_0', 'customer', 'state', 'customer_lifetime_value',\n",
      "       'response', 'coverage', 'education', 'effective_to_date',\n",
      "       'employmentstatus', 'gender', 'income', 'location_code',\n",
      "       'marital_status', 'monthly_premium_auto', 'months_since_last_claim',\n",
      "       'months_since_policy_inception', 'number_of_open_complaints',\n",
      "       'number_of_policies', 'policy_type', 'policy', 'renew_offer_type',\n",
      "       'sales_channel', 'total_claim_amount', 'vehicle_class', 'vehicle_size',\n",
      "       'vehicle_type', 'month'],\n",
      "      dtype='object')\n",
      "<class 'pandas.core.frame.DataFrame'>\n",
      "RangeIndex: 10910 entries, 0 to 10909\n",
      "Data columns (total 27 columns):\n",
      " #   Column                         Non-Null Count  Dtype  \n",
      "---  ------                         --------------  -----  \n",
      " 0   unnamed:_0                     10910 non-null  int64  \n",
      " 1   customer                       10910 non-null  object \n",
      " 2   state                          10910 non-null  object \n",
      " 3   customer_lifetime_value        10910 non-null  float64\n",
      " 4   response                       10910 non-null  object \n",
      " 5   coverage                       10910 non-null  object \n",
      " 6   education                      10910 non-null  object \n",
      " 7   effective_to_date              10910 non-null  object \n",
      " 8   employmentstatus               10910 non-null  object \n",
      " 9   gender                         10910 non-null  object \n",
      " 10  income                         10910 non-null  int64  \n",
      " 11  location_code                  10910 non-null  object \n",
      " 12  marital_status                 10910 non-null  object \n",
      " 13  monthly_premium_auto           10910 non-null  int64  \n",
      " 14  months_since_last_claim        10910 non-null  float64\n",
      " 15  months_since_policy_inception  10910 non-null  int64  \n",
      " 16  number_of_open_complaints      10910 non-null  float64\n",
      " 17  number_of_policies             10910 non-null  int64  \n",
      " 18  policy_type                    10910 non-null  object \n",
      " 19  policy                         10910 non-null  object \n",
      " 20  renew_offer_type               10910 non-null  object \n",
      " 21  sales_channel                  10910 non-null  object \n",
      " 22  total_claim_amount             10910 non-null  float64\n",
      " 23  vehicle_class                  10910 non-null  object \n",
      " 24  vehicle_size                   10910 non-null  object \n",
      " 25  vehicle_type                   10910 non-null  object \n",
      " 26  month                          10910 non-null  int64  \n",
      "dtypes: float64(4), int64(6), object(17)\n",
      "memory usage: 2.2+ MB\n",
      "None\n",
      "   unnamed:_0 customer       state  customer_lifetime_value response coverage  \\\n",
      "0           0  DK49336     Arizona              4809.216960       No    Basic   \n",
      "1           1  KX64629  California              2228.525238       No    Basic   \n",
      "2           2  LZ68649  Washington             14947.917300       No    Basic   \n",
      "\n",
      "  education effective_to_date employmentstatus gender  ...  \\\n",
      "0   College        2011-02-18         Employed      M  ...   \n",
      "1   College        2011-01-18       Unemployed      F  ...   \n",
      "2  Bachelor        2011-02-10         Employed      M  ...   \n",
      "\n",
      "   number_of_policies     policy_type        policy  renew_offer_type  \\\n",
      "0                   9  Corporate Auto  Corporate L3            Offer3   \n",
      "1                   1   Personal Auto   Personal L3            Offer4   \n",
      "2                   2   Personal Auto   Personal L3            Offer3   \n",
      "\n",
      "   sales_channel  total_claim_amount  vehicle_class  vehicle_size  \\\n",
      "0          Agent          292.800000  Four-Door Car       Medsize   \n",
      "1    Call Center          744.924331  Four-Door Car       Medsize   \n",
      "2    Call Center          480.000000            SUV       Medsize   \n",
      "\n",
      "  vehicle_type month  \n",
      "0            A     2  \n",
      "1            A     1  \n",
      "2            A     2  \n",
      "\n",
      "[3 rows x 27 columns]\n"
     ]
    }
   ],
   "source": [
    "print(df.shape)          \n",
    "print(df.columns)        \n",
    "print(df.info())         \n",
    "print(df.head(3)) "
   ]
  },
  {
   "cell_type": "code",
   "execution_count": 54,
   "id": "74767bb6",
   "metadata": {},
   "outputs": [
    {
     "name": "stdout",
     "output_type": "stream",
     "text": [
      "Duplicates: 0\n",
      "Null values:\n",
      " unnamed:_0                       0\n",
      "customer                         0\n",
      "state                            0\n",
      "customer_lifetime_value          0\n",
      "response                         0\n",
      "coverage                         0\n",
      "education                        0\n",
      "effective_to_date                0\n",
      "employmentstatus                 0\n",
      "gender                           0\n",
      "income                           0\n",
      "location_code                    0\n",
      "marital_status                   0\n",
      "monthly_premium_auto             0\n",
      "months_since_last_claim          0\n",
      "months_since_policy_inception    0\n",
      "number_of_open_complaints        0\n",
      "number_of_policies               0\n",
      "policy_type                      0\n",
      "policy                           0\n",
      "renew_offer_type                 0\n",
      "sales_channel                    0\n",
      "total_claim_amount               0\n",
      "vehicle_class                    0\n",
      "vehicle_size                     0\n",
      "vehicle_type                     0\n",
      "month                            0\n",
      "dtype: int64\n"
     ]
    }
   ],
   "source": [
    "print(\"Duplicates:\", df.duplicated().sum())\n",
    "print(\"Null values:\\n\", df.isnull().sum())"
   ]
  },
  {
   "cell_type": "code",
   "execution_count": 55,
   "id": "3dd1af9e",
   "metadata": {},
   "outputs": [
    {
     "name": "stdout",
     "output_type": "stream",
     "text": [
      "unnamed:_0                         int64\n",
      "customer                          object\n",
      "state                             object\n",
      "customer_lifetime_value          float64\n",
      "response                          object\n",
      "coverage                          object\n",
      "education                         object\n",
      "effective_to_date                 object\n",
      "employmentstatus                  object\n",
      "gender                            object\n",
      "income                             int64\n",
      "location_code                     object\n",
      "marital_status                    object\n",
      "monthly_premium_auto               int64\n",
      "months_since_last_claim          float64\n",
      "months_since_policy_inception      int64\n",
      "number_of_open_complaints        float64\n",
      "number_of_policies                 int64\n",
      "policy_type                       object\n",
      "policy                            object\n",
      "renew_offer_type                  object\n",
      "sales_channel                     object\n",
      "total_claim_amount               float64\n",
      "vehicle_class                     object\n",
      "vehicle_size                      object\n",
      "vehicle_type                      object\n",
      "month                              int64\n",
      "dtype: object\n"
     ]
    }
   ],
   "source": [
    "print(df.dtypes)"
   ]
  },
  {
   "cell_type": "code",
   "execution_count": 57,
   "id": "86577c60",
   "metadata": {},
   "outputs": [
    {
     "name": "stdout",
     "output_type": "stream",
     "text": [
      "['Agent' 'Call Center' 'Branch' 'Web']\n"
     ]
    }
   ],
   "source": [
    "print(df['sales_channel'].unique())"
   ]
  },
  {
   "cell_type": "code",
   "execution_count": null,
   "id": "6dce6476",
   "metadata": {},
   "outputs": [],
   "source": [
    "#1"
   ]
  },
  {
   "cell_type": "code",
   "execution_count": 56,
   "id": "4695d259",
   "metadata": {},
   "outputs": [
    {
     "name": "stdout",
     "output_type": "stream",
     "text": [
      "               total_claim_amount\n",
      "sales_channel                    \n",
      "Agent                  1810226.82\n",
      "Branch                 1301204.00\n",
      "Call Center             926600.82\n",
      "Web                     706600.04\n"
     ]
    }
   ],
   "source": [
    "pivot_table = pd.pivot_table(\n",
    "    df,\n",
    "    values='total_claim_amount',     # Replace with revenue column if different\n",
    "    index='sales_channel',\n",
    "    aggfunc='sum'\n",
    ")\n",
    "\n",
    "# Round the values to 2 decimals\n",
    "pivot_table = pivot_table.round(2)\n",
    "\n",
    "print(pivot_table)"
   ]
  },
  {
   "cell_type": "code",
   "execution_count": null,
   "id": "4e6bab8c",
   "metadata": {},
   "outputs": [],
   "source": [
    "# Call center and web channels have significant less amount sold than the other channels that are more personal which can explain the difference."
   ]
  },
  {
   "cell_type": "markdown",
   "id": "df35fd0d-513e-4e77-867e-429da10a9cc7",
   "metadata": {
    "id": "df35fd0d-513e-4e77-867e-429da10a9cc7"
   },
   "source": [
    "1. You work at the marketing department and you want to know which sales channel brought the most sales in terms of total revenue. Using pivot, create a summary table showing the total revenue for each sales channel (branch, call center, web, and mail).\n",
    "Round the total revenue to 2 decimal points.  Analyze the resulting table to draw insights."
   ]
  },
  {
   "cell_type": "code",
   "execution_count": 58,
   "id": "dbe70fa4",
   "metadata": {},
   "outputs": [
    {
     "name": "stdout",
     "output_type": "stream",
     "text": [
      "education  Bachelor  College   Doctor  High School or Below   Master\n",
      "gender                                                              \n",
      "F           7874.27  7748.82  7328.51               8675.22  8157.05\n",
      "M           7703.60  8052.46  7415.33               8149.69  8168.83\n"
     ]
    }
   ],
   "source": [
    "pivot_clv = pd.pivot_table(\n",
    "    df,\n",
    "    values='customer_lifetime_value',\n",
    "    index='gender',\n",
    "    columns='education',\n",
    "    aggfunc='mean'\n",
    ").round(2)\n",
    "\n",
    "print(pivot_clv)"
   ]
  },
  {
   "cell_type": "code",
   "execution_count": null,
   "id": "07a63498",
   "metadata": {},
   "outputs": [],
   "source": [
    "# Gender doesn´t make a significant difference in lifetime value, in general the highest is the education the highest is the value, probably due to a bigger income of this customers"
   ]
  },
  {
   "cell_type": "markdown",
   "id": "640993b2-a291-436c-a34d-a551144f8196",
   "metadata": {
    "id": "640993b2-a291-436c-a34d-a551144f8196"
   },
   "source": [
    "2. Create a pivot table that shows the average customer lifetime value per gender and education level. Analyze the resulting table to draw insights."
   ]
  },
  {
   "cell_type": "markdown",
   "id": "32c7f2e5-3d90-43e5-be33-9781b6069198",
   "metadata": {
    "id": "32c7f2e5-3d90-43e5-be33-9781b6069198"
   },
   "source": [
    "## Bonus\n",
    "\n",
    "You work at the customer service department and you want to know which months had the highest number of complaints by policy type category. Create a summary table showing the number of complaints by policy type and month.\n",
    "Show it in a long format table."
   ]
  },
  {
   "cell_type": "markdown",
   "id": "e3d09a8f-953c-448a-a5f8-2e5a8cca7291",
   "metadata": {
    "id": "e3d09a8f-953c-448a-a5f8-2e5a8cca7291"
   },
   "source": [
    "*In data analysis, a long format table is a way of structuring data in which each observation or measurement is stored in a separate row of the table. The key characteristic of a long format table is that each column represents a single variable, and each row represents a single observation of that variable.*\n",
    "\n",
    "*More information about long and wide format tables here: https://www.statology.org/long-vs-wide-data/*"
   ]
  },
  {
   "cell_type": "code",
   "execution_count": null,
   "id": "3a069e0b-b400-470e-904d-d17582191be4",
   "metadata": {
    "id": "3a069e0b-b400-470e-904d-d17582191be4"
   },
   "outputs": [],
   "source": [
    "# Your code goes here"
   ]
  }
 ],
 "metadata": {
  "colab": {
   "provenance": []
  },
  "kernelspec": {
   "display_name": "base",
   "language": "python",
   "name": "python3"
  },
  "language_info": {
   "codemirror_mode": {
    "name": "ipython",
    "version": 3
   },
   "file_extension": ".py",
   "mimetype": "text/x-python",
   "name": "python",
   "nbconvert_exporter": "python",
   "pygments_lexer": "ipython3",
   "version": "3.12.7"
  }
 },
 "nbformat": 4,
 "nbformat_minor": 5
}
